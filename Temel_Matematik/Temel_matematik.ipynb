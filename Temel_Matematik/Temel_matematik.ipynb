{
 "cells": [
  {
   "cell_type": "markdown",
   "metadata": {},
   "source": [
    "# Temel Matematik\n",
    "\n",
    "## Limit\n",
    "\n",
    "f(x) = y\n",
    "\n",
    "* x belirli bir noktaya yaklaşırken y değeri nereye **yaklaşır**?\n",
    "\n",
    "```math\n",
    "lim x -> 1 f(x) = (x**2 - 1) / (x - 1) \n",
    "\n",
    "```\n",
    "Yukarıdaki fonksiyonda x = 1 olduğunda 0/0 olacağı için hata alınır. Ancak x 1'e giderken cevap 2 olur. Yani fonksiyon, x 1'e giderken sonucu 2'ye gider.\n",
    "\n",
    "Aşağıda python içerisindeki yazılımı görebiliriz."
   ]
  },
  {
   "cell_type": "code",
   "execution_count": 1,
   "metadata": {},
   "outputs": [],
   "source": [
    "def f(x):\n",
    "    return (x**2 -1) / (x - 1)\n",
    "\n",
    "\n",
    "f(0.5) # Output = 1.5\n",
    "f(1) # Output = Hata alınır\n",
    "f(2) # Output = 3.0"
   ]
  },
  {
   "cell_type": "markdown",
   "metadata": {},
   "source": [
    "### Test Limit\n",
    "\n",
    "Bir Fonksiyonun tam olarak belirli bir noktadaki değeri değil, o noktaya yaklaşıldığında değerin hangi noktaya yaklaştığını bulmaya çalışırken kullanılır."
   ]
  },
  {
   "cell_type": "markdown",
   "metadata": {},
   "source": [
    "# Temel Matematik\n",
    "\n",
    "## Türev\n"
   ]
  }
 ],
 "metadata": {
  "interpreter": {
   "hash": "61a08e7f131dfe2aca80997ed8eff63098cc2a3d0cc059795c0ae26ba2a0b692"
  },
  "kernelspec": {
   "display_name": "Python 3.8.8 64-bit ('base': conda)",
   "language": "python",
   "name": "python3"
  },
  "language_info": {
   "codemirror_mode": {
    "name": "ipython",
    "version": 3
   },
   "file_extension": ".py",
   "mimetype": "text/x-python",
   "name": "python",
   "nbconvert_exporter": "python",
   "pygments_lexer": "ipython3",
   "version": "3.8.8"
  },
  "orig_nbformat": 4
 },
 "nbformat": 4,
 "nbformat_minor": 2
}
